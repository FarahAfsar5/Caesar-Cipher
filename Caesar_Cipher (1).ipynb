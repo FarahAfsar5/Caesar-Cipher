{
  "nbformat": 4,
  "nbformat_minor": 0,
  "metadata": {
    "colab": {
      "provenance": []
    },
    "kernelspec": {
      "name": "python3",
      "display_name": "Python 3"
    },
    "language_info": {
      "name": "python"
    }
  },
  "cells": [
    {
      "cell_type": "code",
      "execution_count": null,
      "metadata": {
        "colab": {
          "base_uri": "https://localhost:8080/"
        },
        "id": "WjgkhYxPBHNK",
        "outputId": "d42438ce-8c95-4d9d-aa9c-4f5091697a83"
      },
      "outputs": [
        {
          "output_type": "stream",
          "name": "stdout",
          "text": [
            "Enter message: Islamabad is capital of Pakistan\n",
            "Enter shift value: 3\n",
            "Encrypted: Lvodpdedg lv fdslwdo ri Sdnlvwdq\n",
            "Decrypted: Islamabad is capital of Pakistan\n"
          ]
        }
      ],
      "source": [
        "def encrypt(text, shift):\n",
        "    result = \"\"\n",
        "    for char in text:\n",
        "        if char.isalpha():\n",
        "            base = ord('A') if char.isupper() else ord('a')\n",
        "            result += chr((ord(char) - base + shift) % 26 + base)\n",
        "        else:\n",
        "            result += char\n",
        "    return result\n",
        "\n",
        "def decrypt(text, shift):\n",
        "    return encrypt(text, -shift)\n",
        "\n",
        "# Example usage\n",
        "message = input(\"Enter message: \")\n",
        "shift = int(input(\"Enter shift value: \"))\n",
        "\n",
        "encrypted = encrypt(message, shift)\n",
        "decrypted = decrypt(encrypted, shift)\n",
        "\n",
        "print(\"Encrypted:\", encrypted)\n",
        "print(\"Decrypted:\", decrypted)"
      ]
    }
  ]
}